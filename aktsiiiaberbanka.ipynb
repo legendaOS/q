{
 "cells": [
  {
   "cell_type": "code",
   "execution_count": 18,
   "metadata": {},
   "outputs": [],
   "source": [
    "import tensorflow as tf\n",
    "\n",
    "from tensorflow import keras\n",
    "from tensorflow.keras import layers"
   ]
  },
  {
   "cell_type": "code",
   "execution_count": 19,
   "metadata": {},
   "outputs": [],
   "source": [
    "import numpy as np"
   ]
  },
  {
   "cell_type": "code",
   "execution_count": 20,
   "metadata": {},
   "outputs": [],
   "source": [
    "f = open('aaa.txt')"
   ]
  },
  {
   "cell_type": "code",
   "execution_count": 21,
   "metadata": {},
   "outputs": [],
   "source": [
    "data = []"
   ]
  },
  {
   "cell_type": "code",
   "execution_count": 22,
   "metadata": {},
   "outputs": [],
   "source": [
    "for line in f:\n",
    "    data.append(line.split(','))"
   ]
  },
  {
   "cell_type": "code",
   "execution_count": 23,
   "metadata": {},
   "outputs": [
    {
     "data": {
      "text/plain": [
       "[['Сбербанк',\n",
       "  '11/25/20',\n",
       "  '00:00',\n",
       "  '248.00',\n",
       "  '252.20',\n",
       "  '246.55',\n",
       "  '251.91',\n",
       "  '13339774',\n",
       "  '0\\n'],\n",
       " ['Сбербанк',\n",
       "  '11/26/20',\n",
       "  '00:00',\n",
       "  '252.30',\n",
       "  '252.88',\n",
       "  '247.44',\n",
       "  '250.10',\n",
       "  '7991759',\n",
       "  '0\\n'],\n",
       " ['Сбербанк',\n",
       "  '11/27/20',\n",
       "  '00:00',\n",
       "  '250.30',\n",
       "  '252.26',\n",
       "  '248.03',\n",
       "  '251.59',\n",
       "  '5143113',\n",
       "  '0\\n'],\n",
       " ['Сбербанк',\n",
       "  '11/30/20',\n",
       "  '00:00',\n",
       "  '249.72',\n",
       "  '251.00',\n",
       "  '245.98',\n",
       "  '249.63',\n",
       "  '11214162',\n",
       "  '0\\n'],\n",
       " ['Сбербанк',\n",
       "  '12/01/20',\n",
       "  '00:00',\n",
       "  '250.75',\n",
       "  '260.99',\n",
       "  '249.80',\n",
       "  '260.81',\n",
       "  '13206950',\n",
       "  '0\\n'],\n",
       " ['Сбербанк',\n",
       "  '12/02/20',\n",
       "  '00:00',\n",
       "  '260.05',\n",
       "  '264.99',\n",
       "  '258.80',\n",
       "  '264.06',\n",
       "  '9345213',\n",
       "  '0\\n'],\n",
       " ['Сбербанк',\n",
       "  '12/03/20',\n",
       "  '00:00',\n",
       "  '264.50',\n",
       "  '264.63',\n",
       "  '260.85',\n",
       "  '263.14',\n",
       "  '6224084',\n",
       "  '0\\n'],\n",
       " ['Сбербанк',\n",
       "  '12/04/20',\n",
       "  '00:00',\n",
       "  '264.63',\n",
       "  '270.84',\n",
       "  '264.50',\n",
       "  '270.00',\n",
       "  '9463793',\n",
       "  '0\\n'],\n",
       " ['Сбербанк',\n",
       "  '12/07/20',\n",
       "  '00:00',\n",
       "  '269.00',\n",
       "  '276.13',\n",
       "  '268.10',\n",
       "  '274.36',\n",
       "  '9479366',\n",
       "  '0\\n'],\n",
       " ['Сбербанк',\n",
       "  '12/08/20',\n",
       "  '00:00',\n",
       "  '274.50',\n",
       "  '276.66',\n",
       "  '271.52',\n",
       "  '275.49',\n",
       "  '7885992',\n",
       "  '0\\n'],\n",
       " ['Сбербанк',\n",
       "  '12/09/20',\n",
       "  '00:00',\n",
       "  '276.40',\n",
       "  '279.42',\n",
       "  '275.87',\n",
       "  '276.89',\n",
       "  '7363998',\n",
       "  '0\\n'],\n",
       " ['Сбербанк',\n",
       "  '12/10/20',\n",
       "  '00:00',\n",
       "  '276.55',\n",
       "  '282.20',\n",
       "  '275.20',\n",
       "  '282.20',\n",
       "  '7565869',\n",
       "  '0\\n'],\n",
       " ['Сбербанк',\n",
       "  '12/11/20',\n",
       "  '00:00',\n",
       "  '282.50',\n",
       "  '284.60',\n",
       "  '279.78',\n",
       "  '283.73',\n",
       "  '7610195',\n",
       "  '0\\n'],\n",
       " ['Сбербанк',\n",
       "  '12/14/20',\n",
       "  '00:00',\n",
       "  '285.01',\n",
       "  '287.74',\n",
       "  '277.10',\n",
       "  '279.95',\n",
       "  '9041525',\n",
       "  '0\\n'],\n",
       " ['Сбербанк',\n",
       "  '12/15/20',\n",
       "  '00:00',\n",
       "  '278.53',\n",
       "  '283.76',\n",
       "  '276.07',\n",
       "  '278.70',\n",
       "  '8419323',\n",
       "  '0\\n'],\n",
       " ['Сбербанк',\n",
       "  '12/16/20',\n",
       "  '00:00',\n",
       "  '278.00',\n",
       "  '280.84',\n",
       "  '276.14',\n",
       "  '278.35',\n",
       "  '5474896',\n",
       "  '0\\n'],\n",
       " ['Сбербанк',\n",
       "  '12/17/20',\n",
       "  '00:00',\n",
       "  '279.81',\n",
       "  '285.16',\n",
       "  '276.54',\n",
       "  '278.50',\n",
       "  '9213855',\n",
       "  '0\\n'],\n",
       " ['Сбербанк',\n",
       "  '12/18/20',\n",
       "  '00:00',\n",
       "  '277.22',\n",
       "  '277.40',\n",
       "  '268.52',\n",
       "  '270.16',\n",
       "  '9927184',\n",
       "  '0\\n'],\n",
       " ['Сбербанк',\n",
       "  '12/21/20',\n",
       "  '00:00',\n",
       "  '266.20',\n",
       "  '267.34',\n",
       "  '259.70',\n",
       "  '261.79',\n",
       "  '12051795',\n",
       "  '0\\n'],\n",
       " ['Сбербанк',\n",
       "  '12/22/20',\n",
       "  '00:00',\n",
       "  '259.55',\n",
       "  '267.42',\n",
       "  '257.05',\n",
       "  '262.04',\n",
       "  '10549048',\n",
       "  '0']]"
      ]
     },
     "execution_count": 23,
     "metadata": {},
     "output_type": "execute_result"
    }
   ],
   "source": [
    "data"
   ]
  },
  {
   "cell_type": "code",
   "execution_count": 43,
   "metadata": {},
   "outputs": [],
   "source": [
    "x_train = []"
   ]
  },
  {
   "cell_type": "code",
   "execution_count": 45,
   "metadata": {},
   "outputs": [
    {
     "name": "stdout",
     "output_type": "stream",
     "text": [
      "[[248.0, 252.2, 246.55, 251.91], [252.3, 252.88, 247.44, 250.1], [250.3, 252.26, 248.03, 251.59], [249.72, 251.0, 245.98, 249.63], [250.75, 260.99, 249.8, 260.81], [260.05, 264.99, 258.8, 264.06], [264.5, 264.63, 260.85, 263.14], [264.63, 270.84, 264.5, 270.0], [269.0, 276.13, 268.1, 274.36], [274.5, 276.66, 271.52, 275.49], [276.4, 279.42, 275.87, 276.89], [276.55, 282.2, 275.2, 282.2], [282.5, 284.6, 279.78, 283.73], [285.01, 287.74, 277.1, 279.95], [278.53, 283.76, 276.07, 278.7], [278.0, 280.84, 276.14, 278.35], [279.81, 285.16, 276.54, 278.5], [277.22, 277.4, 268.52, 270.16], [266.2, 267.34, 259.7, 261.79], [259.55, 267.42, 257.05, 262.04]]\n"
     ]
    }
   ],
   "source": [
    "for i in data:\n",
    "    buf = []\n",
    "    \n",
    "    buf.append(i[3:7])\n",
    "    \n",
    "    for e in buf: \n",
    "        buff = []\n",
    "        for l in e:\n",
    "            buff.append(float(l))\n",
    "       \n",
    "    x_train.append(buff)\n",
    "print(x_train)"
   ]
  },
  {
   "cell_type": "code",
   "execution_count": 66,
   "metadata": {},
   "outputs": [],
   "source": [
    "buf = np.array(x_train)"
   ]
  },
  {
   "cell_type": "code",
   "execution_count": 67,
   "metadata": {},
   "outputs": [],
   "source": [
    "x_train = np.array(buf[0:-3])"
   ]
  },
  {
   "cell_type": "code",
   "execution_count": 68,
   "metadata": {},
   "outputs": [],
   "source": [
    "y_train = np.array(buf[1:-2])"
   ]
  },
  {
   "cell_type": "code",
   "execution_count": 69,
   "metadata": {},
   "outputs": [
    {
     "data": {
      "text/plain": [
       "9"
      ]
     },
     "execution_count": 69,
     "metadata": {},
     "output_type": "execute_result"
    }
   ],
   "source": [
    "len(x_train)"
   ]
  },
  {
   "cell_type": "code",
   "execution_count": 70,
   "metadata": {},
   "outputs": [
    {
     "data": {
      "text/plain": [
       "9"
      ]
     },
     "execution_count": 70,
     "metadata": {},
     "output_type": "execute_result"
    }
   ],
   "source": [
    "len(y_train)"
   ]
  },
  {
   "cell_type": "code",
   "execution_count": 71,
   "metadata": {},
   "outputs": [],
   "source": [
    "model = keras.Sequential()\n",
    "model.add(keras.layers.Dense(30, activation = 'relu', input_shape = (x_train.shape[1],)))\n",
    "model.add(keras.layers.Dense(15, activation = 'relu'))\n",
    "model.add(keras.layers.Dense(4))"
   ]
  },
  {
   "cell_type": "code",
   "execution_count": 72,
   "metadata": {},
   "outputs": [],
   "source": [
    "model.compile(optimizer = 'adam', loss = 'mse', metrics= ['mae'])"
   ]
  },
  {
   "cell_type": "code",
   "execution_count": 78,
   "metadata": {},
   "outputs": [
    {
     "data": {
      "text/plain": [
       "<tensorflow.python.keras.callbacks.History at 0x21981325608>"
      ]
     },
     "execution_count": 78,
     "metadata": {},
     "output_type": "execute_result"
    }
   ],
   "source": [
    "model.fit(x_train, y_train, epochs = 10, batch_size = 1, verbose = 0)"
   ]
  },
  {
   "cell_type": "code",
   "execution_count": 79,
   "metadata": {},
   "outputs": [
    {
     "data": {
      "text/plain": [
       "array([[250.69872, 254.62714, 248.90628, 253.37958],\n",
       "       [250.8453 , 254.78229, 249.06508, 253.54366],\n",
       "       [250.98482, 254.92377, 249.22086, 253.6925 ],\n",
       "       [249.51411, 253.42572, 247.73447, 252.18773],\n",
       "       [258.45926, 262.47372, 256.49945, 261.11044],\n",
       "       [263.0639 , 267.17804, 261.209  , 265.87006],\n",
       "       [263.31662, 267.43793, 261.49445, 266.1468 ],\n",
       "       [268.73093, 272.93307, 266.85587, 271.603  ],\n",
       "       [273.41547, 277.68222, 271.48563, 276.3113 ]], dtype=float32)"
      ]
     },
     "execution_count": 79,
     "metadata": {},
     "output_type": "execute_result"
    }
   ],
   "source": [
    "model.predict(x_train)"
   ]
  },
  {
   "cell_type": "code",
   "execution_count": null,
   "metadata": {},
   "outputs": [],
   "source": []
  }
 ],
 "metadata": {
  "kernelspec": {
   "display_name": "Python 3",
   "language": "python",
   "name": "python3"
  },
  "language_info": {
   "codemirror_mode": {
    "name": "ipython",
    "version": 3
   },
   "file_extension": ".py",
   "mimetype": "text/x-python",
   "name": "python",
   "nbconvert_exporter": "python",
   "pygments_lexer": "ipython3",
   "version": "3.7.4"
  }
 },
 "nbformat": 4,
 "nbformat_minor": 4
}
